{
 "cells": [
  {
   "cell_type": "markdown",
   "id": "8e523c27-ffa2-47a0-b92f-0d9748f4fd35",
   "metadata": {},
   "source": [
    "# Get Data from China CDC Weekly"
   ]
  },
  {
   "cell_type": "code",
   "execution_count": 1,
   "id": "f82369cb-3f2f-4736-b085-10f0b2495213",
   "metadata": {},
   "outputs": [],
   "source": [
    "import requests\n",
    "import xmltodict\n",
    "import re\n",
    "from bs4 import BeautifulSoup\n",
    "import os\n",
    "import csv\n",
    "from datetime import datetime\n",
    "import pandas as pd"
   ]
  },
  {
   "cell_type": "code",
   "execution_count": 2,
   "id": "717d8a42-37d2-44b5-96c3-05d24e37ac88",
   "metadata": {},
   "outputs": [],
   "source": [
    "def extract_date(text):\n",
    "    match = re.search(r\"\\b([A-Za-z]+)\\s+(\\d{4})\\b\", text)\n",
    "    if match:\n",
    "          return(match.group(2) + \" \" + match.group(1))\n",
    "    else:\n",
    "          return(None)"
   ]
  },
  {
   "cell_type": "code",
   "execution_count": 3,
   "id": "0ccd8db9-8818-4d75-8c32-0ec5636f670d",
   "metadata": {},
   "outputs": [],
   "source": [
    "# 获取 RSS 网址\n",
    "url = \"https://pubmed.ncbi.nlm.nih.gov/rss/search/1tQjT4yH2iuqFpDL7Y1nShJmC4kDC5_BJYgw4R1O0BCs-_Nemt/?limit=100&utm_campaign=pubmed-2&fc=20230905093742\"\n",
    "\n",
    "# 发送请求并获取响应\n",
    "response = requests.get(url)\n",
    "\n",
    "# 检查响应状态码\n",
    "if response.status_code != 200:\n",
    "    raise Exception(\"获取 RSS 结果失败，状态码：{}\".format(response.status_code))\n",
    "\n",
    "# 解析 XML 结果\n",
    "rss_results = xmltodict.parse(response.content)\n",
    "\n",
    "# 提取结果\n",
    "results = []\n",
    "for item in rss_results[\"rss\"][\"channel\"][\"item\"]:\n",
    "    date = extract_date(re.sub(r\"[^\\w\\s-]\", \"\", item[\"title\"]))\n",
    "    # print(date)\n",
    "    # print(item[\"title\"])\n",
    "    date_obj = datetime.strptime(date, \"%Y %B\")\n",
    "    formatted_date = date_obj.strftime(\"%Y/%m/%d\")\n",
    "    results.append({\n",
    "        \"title\": item[\"title\"],\n",
    "        \"pubDate\": item[\"pubDate\"],\n",
    "        \"dc:date\": item[\"dc:date\"],\n",
    "        \"date\": date_obj,\n",
    "        \"YearMonthDay\": formatted_date,\n",
    "        \"YearMonth\": date,\n",
    "        \"doi\": item[\"dc:identifier\"]\n",
    "    })\n",
    "\n",
    "# 按日期排序\n",
    "results.sort(key=lambda result: result[\"date\"], reverse=False)\n",
    "\n",
    "# print(results)\n",
    "# 获取最近 14 条结果\n",
    "results = results[-14:]"
   ]
  },
  {
   "cell_type": "markdown",
   "id": "a3a54b2e-c165-4900-8cc5-a1124eea43e8",
   "metadata": {},
   "source": [
    "# Compare Data"
   ]
  },
  {
   "cell_type": "code",
   "execution_count": 4,
   "id": "a5b8c0e2-eb3f-4c7c-8cdb-a9b3cf0ae83d",
   "metadata": {},
   "outputs": [
    {
     "name": "stdout",
     "output_type": "stream",
     "text": [
      "需要提取以下日期的数据:\n",
      "['2023 January', '2023 February', '2023 March', '2023 April']\n"
     ]
    }
   ],
   "source": [
    "folder_path = \"WeeklyReport/\"  # 文件夹路径\n",
    "\n",
    "existing_dates = [os.path.splitext(file)[0] for file in os.listdir(folder_path) if os.path.isfile(os.path.join(folder_path, file))]\n",
    "\n",
    "new_dates = [result['YearMonth'] for result in results if result['YearMonth'] not in existing_dates]\n",
    "\n",
    "if len(new_dates) == 0:\n",
    "    print(\"已经是最新数据\")\n",
    "else:\n",
    "    print(\"需要提取以下日期的数据:\")\n",
    "    print(new_dates)\n",
    "    # 筛选 results\n",
    "    filtered_results = [result for result in results if result['YearMonth'] in new_dates]\n",
    "    \n",
    "    # 提取 DOI\n",
    "    dois = [re.sub(r\"doi:\", r\"doi/\", item[\"doi\"][2]) if len(item[\"doi\"]) > 2 else \"\" for item in filtered_results]\n",
    "\n",
    "    # 生成网址\n",
    "    urls = [\"https://weekly.chinacdc.cn/en/article/{}\".format(doi) for doi in dois]"
   ]
  },
  {
   "cell_type": "markdown",
   "id": "a51a92c9-a546-4887-9136-09ff032f3400",
   "metadata": {},
   "source": [
    "# Get Updated Data"
   ]
  },
  {
   "cell_type": "code",
   "execution_count": 5,
   "id": "6522977a-3524-430a-bbfd-629e972900ca",
   "metadata": {},
   "outputs": [],
   "source": [
    "for i, url in enumerate(urls):\n",
    "    # 发送请求并获取响应\n",
    "    response = requests.get(url)\n",
    "\n",
    "    # 检查响应状态码\n",
    "    if response.status_code != 200:\n",
    "        raise Exception(\"获取网页内容失败，状态码：{}\".format(response.status_code))\n",
    "\n",
    "    # 解析 HTML\n",
    "    soup = BeautifulSoup(response.content, \"html.parser\")\n",
    "\n",
    "    # 查找表格\n",
    "    table = soup.find(\"table\")  # 假设表格是 <table> 标签\n",
    "\n",
    "    # 提取表格数据\n",
    "    table_data = []\n",
    "    for row in table.find_all(\"tr\"):\n",
    "        row_data = []\n",
    "        for cell in row.find_all(\"td\"):\n",
    "            # 剔除除了空格和连字符之外的所有特殊字符\n",
    "            text = re.sub(r\"[^\\w\\s-]\", \"\", cell.text.strip())\n",
    "            row_data.append(text)\n",
    "        table_data.append(row_data)\n",
    "\n",
    "    # 移除最后一段内容\n",
    "    table_data = table_data[:-1]\n",
    "    # 在每个月结果的第一列插入 \"YearMonth\"\n",
    "    table_data[0].insert(0, \"YearMonth\")\n",
    "    for row in table_data[1:]:\n",
    "        row.insert(0, filtered_results[i][\"YearMonth\"])\n",
    "\n",
    "        \n",
    "    # 在每个月结果的第一列插入 \"YearMonthDay\"\n",
    "    table_data[0].insert(0, \"YearMonthDay\")\n",
    "    for row in table_data[1:]:\n",
    "        row.insert(0, filtered_results[i][\"YearMonthDay\"])\n",
    "    \n",
    "    # 在每个月结果的第一列插入 \"Date\"\n",
    "    table_data[0].insert(0, \"Date\")\n",
    "    for row in table_data[1:]:\n",
    "        row.insert(0, filtered_results[i][\"date\"])\n",
    "    \n",
    "    # 在最后一列增加网址\n",
    "    table_data[0].insert(0, \"URL\")\n",
    "    for row in table_data[1:]:\n",
    "        row.insert(0, filtered_results[i])\n",
    "    \n",
    "    # 在最后一列增加网址\n",
    "    table_data[0].insert(0, \"DOI\")\n",
    "    for row in table_data[1:]:\n",
    "        row.insert(0, dois[i])\n",
    "\n",
    "    # 保存每个月的结果到CSV文件\n",
    "    file_name = os.path.join(\"WeeklyReport/\", filtered_results[i][\"YearMonth\"] + \".csv\")\n",
    "    with open(file_name, \"w\", newline=\"\") as file:\n",
    "        writer = csv.writer(file)\n",
    "        for row in table_data:\n",
    "            writer.writerow(row)"
   ]
  },
  {
   "cell_type": "markdown",
   "id": "12308155-b382-461a-ba61-62fea3a42395",
   "metadata": {},
   "source": [
    "# Combinded Data"
   ]
  },
  {
   "cell_type": "code",
   "execution_count": 6,
   "id": "717edd38-2a08-4c01-8b0e-50701022c513",
   "metadata": {},
   "outputs": [],
   "source": [
    "# 获取文件夹中所有CSV文件的路径\n",
    "csv_files = [file for file in os.listdir(folder_path) if file.endswith(\".csv\")]\n",
    "\n",
    "# 创建一个空的DataFrame来保存合并的数据\n",
    "merged_data = pd.DataFrame()\n",
    "\n",
    "# 逐个读取CSV文件并合并到DataFrame中\n",
    "for file in csv_files:\n",
    "    file_path = os.path.join(folder_path, file)\n",
    "    data = pd.read_csv(file_path)\n",
    "    merged_data = merged_data.append(data, ignore_index=True)\n",
    "\n",
    "# 对\"Date\"和\"Disease\"列进行降序排列\n",
    "merged_data = merged_data.sort_values(by=[\"Date\", \"Diseases\"], ascending=False)\n",
    "first_row = merged_data.iloc[0]\n",
    "year_month = first_row[\"YearMonth\"]\n",
    "\n",
    "# 使用当前的年月作为文件名\n",
    "current_date = datetime.now().strftime(\"%Y%m\")\n",
    "output_file = f\"reportdata/All_data_{current_date}.csv\"\n",
    "    \n",
    "# 将合并后的数据保存为CSV文件\n",
    "merged_data.to_csv(output_file, index=False)"
   ]
  },
  {
   "cell_type": "code",
   "execution_count": 9,
   "id": "66b54b65-cc65-42dc-a267-f08cf119c879",
   "metadata": {},
   "outputs": [],
   "source": [
    "# 读取Readme.md文件内容\n",
    "readme_path = \"../Readme.md\"\n",
    "with open(readme_path, \"r\") as readme_file:\n",
    "    readme_content = readme_file.read()\n",
    "\n",
    "# 获取当前日期\n",
    "current_date = datetime.now().strftime(\"%Y%m%d\")\n",
    "\n",
    "# 更新日志\n",
    "update_log = f\"#### {year_month}\\n\\nDate: {current_date}\\n\\nUpdated: {new_dates}\"\n",
    "\n",
    "# 将更新日志插入到Readme.md文件中的\"Update Log\"部分\n",
    "updated_readme_content = readme_content.replace(\"### China CDC Monthly Report\", \"### China CDC Monthly Report\\n\\n\" + update_log)\n",
    "\n",
    "# 将更新后的内容写入Readme.md文件\n",
    "with open(readme_path, \"w\") as readme_file:\n",
    "    readme_file.write(updated_readme_content)"
   ]
  },
  {
   "cell_type": "code",
   "execution_count": null,
   "id": "3142c684-d665-4f68-a611-6a8d1d988672",
   "metadata": {},
   "outputs": [],
   "source": []
  }
 ],
 "metadata": {
  "kernelspec": {
   "display_name": "Python 3 (ipykernel)",
   "language": "python",
   "name": "python3"
  },
  "language_info": {
   "codemirror_mode": {
    "name": "ipython",
    "version": 3
   },
   "file_extension": ".py",
   "mimetype": "text/x-python",
   "name": "python",
   "nbconvert_exporter": "python",
   "pygments_lexer": "ipython3",
   "version": "3.9.7"
  }
 },
 "nbformat": 4,
 "nbformat_minor": 5
}
